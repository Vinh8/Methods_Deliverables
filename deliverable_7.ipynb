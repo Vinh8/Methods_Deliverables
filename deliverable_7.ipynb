{
  "nbformat": 4,
  "nbformat_minor": 0,
  "metadata": {
    "colab": {
      "provenance": [],
      "authorship_tag": "ABX9TyNczf1xRAFbWGAe4Aw5iRwo",
      "include_colab_link": true
    },
    "kernelspec": {
      "name": "python3",
      "display_name": "Python 3"
    },
    "language_info": {
      "name": "python"
    }
  },
  "cells": [
    {
      "cell_type": "markdown",
      "metadata": {
        "id": "view-in-github",
        "colab_type": "text"
      },
      "source": [
        "<a href=\"https://colab.research.google.com/github/Vinh8/Methods_Deliverables/blob/master/deliverable_7.ipynb\" target=\"_parent\"><img src=\"https://colab.research.google.com/assets/colab-badge.svg\" alt=\"Open In Colab\"/></a>"
      ]
    },
    {
      "cell_type": "code",
      "execution_count": 12,
      "metadata": {
        "colab": {
          "base_uri": "https://localhost:8080/"
        },
        "id": "1MR6lOkt7sS6",
        "outputId": "7c081804-7a10-4fd2-e14c-8cdcdc026f9b"
      },
      "outputs": [
        {
          "output_type": "stream",
          "name": "stdout",
          "text": [
            "Enter a value between 5 and 15: 5\n",
            "Input: 5\n",
            "Output: \n",
            "The elements of the array are: [24, 32, 22, 14, 11]\n",
            "The sum is 114\n"
          ]
        }
      ],
      "source": [
        "import numpy as np\n",
        "def method_1(user_input):\n",
        "  return list(np.random.randint(10,50,user_input))\n",
        "\n",
        "def method_2(list_1):\n",
        "  return sum(list_1)\n",
        "\n",
        "while True:\n",
        "  user_input = int(input(\"Enter a value between 5 and 15: \"))\n",
        "  if (user_input >=5) and (user_input <=15): break\n",
        "\n",
        "print(\"Input:\",user_input)\n",
        "print(\"Output: \")\n",
        "print(\"The elements of the array are: {}\".format(method_1(user_input)))\n",
        "print(\"The sum is {}\".format(method_2(method_1(user_input))))"
      ]
    }
  ]
}